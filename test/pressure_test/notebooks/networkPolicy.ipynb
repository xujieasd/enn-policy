{
 "cells": [
  {
   "cell_type": "code",
   "execution_count": 2,
   "metadata": {},
   "outputs": [],
   "source": [
    "from k8sclient.Components import (\n",
    "    ServicePort,\n",
    "    PodBuilder,\n",
    "    ServiceBuilder,\n",
    "    NetworkPolicyPort,\n",
    "    NetworkPolicyEgressRule,\n",
    "    NetworkPolicyIngressRule,\n",
    "    NetworkPolicyBuilder,\n",
    ")\n",
    "\n",
    "from k8sclient.keywords import (\n",
    "    list_ready_nodes,\n",
    "    cleanup_pods,\n",
    "    cleanup_services,\n",
    "    is_pod_running,\n",
    "    get_pod_ip,\n",
    "    pod_exec,\n",
    "    pod_exec_new,\n",
    "    is_pod_running,\n",
    "    switch_cluster,\n",
    "    register_cluster,\n",
    "    list_namespaced_services,\n",
    "    list_all_services,\n",
    "    list_namespaced_endpoints,\n",
    "    get_service_ip,\n",
    "    get_service,\n",
    "    create_namespace,\n",
    "    remove_namespace,\n",
    "    list_namespaced_network_policy,\n",
    "    list_network_policy_for_all_namespaces,\n",
    "    delete_namespaced_network_policy_all,\n",
    "    read_namespaced_network_policy,\n",
    "    wait_for_pod_state,\n",
    "    NOT_FOUND,\n",
    "    SUCCEEDED,\n",
    "    RUNNING,\n",
    "    delete_pod,\n",
    "    remove_pod,\n",
    "    tail_pod_logs,\n",
    ")\n",
    "\n",
    "\n",
    "import random\n",
    "import sys\n",
    "import re\n",
    "import argparse\n",
    "\n",
    "import time\n",
    "import requests\n",
    "import json"
   ]
  },
  {
   "cell_type": "code",
   "execution_count": 2,
   "metadata": {
    "collapsed": true
   },
   "outputs": [
    {
     "name": "stdout",
     "output_type": "stream",
     "text": [
      "get networkPolicy of policy-demo\nget all networkPolicy\ningress-policy-0\ningress-policy-l0\ningress-policy-1\ningress-policy-l1\ningress-policy-2\ningress-policy-l2\ningress-policy-3\ningress-policy-l3\n"
     ]
    }
   ],
   "source": [
    "# examples for list network policy\n",
    "def list_network_policy(namespace):\n",
    "    return list_namespaced_network_policy(namespace)\n",
    "def list_all_network_policy():\n",
    "    return list_network_policy_for_all_namespaces()\n",
    "\n",
    "print \"get networkPolicy of policy-demo\"\n",
    "nps = list_network_policy(\"policy-demo\")\n",
    "for np in nps:\n",
    "    print np.metadata.name\n",
    "\n",
    "print \"get all networkPolicy\"\n",
    "nps = list_all_network_policy()\n",
    "for np in nps:\n",
    "    print np.metadata.name"
   ]
  },
  {
   "cell_type": "code",
   "execution_count": 3,
   "metadata": {},
   "outputs": [],
   "source": [
    "# examples for create egress and ingress rules\n",
    "\n",
    "namespace_label = {\"ns1\":\"ns1\"}\n",
    "pod_label = {\"pod1\":\"pod1\"}\n",
    "port = NetworkPolicyPort(1234,protocol=\"TCP\")\n",
    "\n",
    "egress_rule = NetworkPolicyEgressRule()\n",
    "\n",
    "egress_rule.add_policy_ipblock(cidr=\"172.10.0.0/16\")\n",
    "egress_rule.add_policy_namespace_selector(namespace_label=namespace_label)\n",
    "egress_rule.add_policy_pod_selector(pod_label=pod_label)\n",
    "\n",
    "egress_rule.add_policy_port(port)\n",
    "\n",
    "egress_policy = NetworkPolicyBuilder(\n",
    "    \"xegress\",\n",
    "    \"xujietest\",\n",
    ").add_egress_rule(\n",
    "    egress_rule,\n",
    ").add_policy_type(\n",
    "    \"Egress\",\n",
    ").add_pod_selector(\n",
    "    \"run1\",\n",
    "    \"run1\",\n",
    ")\n",
    "\n",
    "ingress_rule = NetworkPolicyIngressRule()\n",
    "ingress_rule.add_policy_ipblock(cidr=\"172.20.0.0/16\")\n",
    "ingress_rule.add_policy_namespace_selector(namespace_label=namespace_label)\n",
    "ingress_rule.add_policy_pod_selector(pod_label=pod_label)\n",
    "\n",
    "ingress_rule.add_policy_port(port)\n",
    "\n",
    "ingress_policy = NetworkPolicyBuilder(\n",
    "    \"xingress\",\n",
    "    \"xujietest\",\n",
    ").add_ingress_rule(\n",
    "    ingress_rule,\n",
    ").add_policy_type(\n",
    "    \"Ingress\",\n",
    ").add_pod_selector(\n",
    "    \"run2\",\n",
    "    \"run2\",\n",
    ")\n",
    "\n",
    "egress_policy.deploy()\n",
    "ingress_policy.deploy()\n",
    "\n",
    "#egress_policy.un_deploy()\n",
    "#ingress_policy.un_deploy()"
   ]
  },
  {
   "cell_type": "code",
   "execution_count": 4,
   "metadata": {},
   "outputs": [
    {
     "name": "stdout",
     "output_type": "stream",
     "text": [
      "policy_select:\nrun2:run2\npolicy_type:\nIngress\npolicy_ingress:\nip block:\n172.20.0.0/16\nnamespace_selector:\nns1:ns1\npod_selector:\npod1:pod1\nports:\nport: 1234  protocol: TCP\n"
     ]
    }
   ],
   "source": [
    "# example for read network policy by given name and namespace\n",
    "\n",
    "policy = read_namespaced_network_policy(\"xingress\",\"xujietest\")\n",
    "policy_spec = policy.spec\n",
    "\n",
    "print \"policy_select:\"\n",
    "policy_select = policy_spec.pod_selector.match_labels\n",
    "for k,v in policy_select.items():\n",
    "    print (k + \":\" + v)\n",
    "\n",
    "print \"policy_type:\"\n",
    "policy_type = policy_spec.policy_types\n",
    "for i, type in enumerate(policy_type):\n",
    "    print type\n",
    "\n",
    "print \"policy_ingress:\"\n",
    "policy_ingress = policy_spec.ingress\n",
    "for i, ingress in enumerate(policy_ingress):\n",
    "    for j, peer in enumerate(ingress._from):\n",
    "        if peer.ip_block is not None:\n",
    "            print \"ip block:\"\n",
    "            print peer.ip_block.cidr\n",
    "        if peer.namespace_selector is not None:\n",
    "            print \"namespace_selector:\"\n",
    "            namespace_selector = peer.namespace_selector.match_labels\n",
    "            for k,v in namespace_selector.items():\n",
    "                print (k + \":\" + v)\n",
    "        if peer.pod_selector is not None:\n",
    "            print \"pod_selector:\"\n",
    "            for k,v in peer.pod_selector.match_labels.items():\n",
    "                print (k + \":\" + v)\n",
    "    for t, port in enumerate(ingress.ports):\n",
    "        print \"ports:\"\n",
    "        print \"port:\",port.port,\" protocol:\",port.protocol"
   ]
  },
  {
   "cell_type": "code",
   "execution_count": 6,
   "metadata": {},
   "outputs": [],
   "source": [
    "# examples for update networkPolicy\n",
    "\n",
    "namespace_label_1 = {\"ns2\":\"ns2\"}\n",
    "pod_label_1 = {\"pod2\":\"pod2\"}\n",
    "ingress_rule_1 = NetworkPolicyIngressRule()\n",
    "\n",
    "ingress_rule_1.add_policy_namespace_selector(namespace_label=namespace_label_1)\n",
    "ingress_rule_1.add_policy_pod_selector(pod_label=pod_label_1)\n",
    "\n",
    "ingress_policy.add_ingress_rule(ingress_rule_1)\n",
    "\n",
    "ingress_policy.update()"
   ]
  },
  {
   "cell_type": "code",
   "execution_count": 7,
   "metadata": {
    "collapsed": true
   },
   "outputs": [
    {
     "data": {
      "text/plain": [
       "{'api_version': 'networking.k8s.io/v1',\n 'code': None,\n 'details': None,\n 'kind': 'NetworkPolicyList',\n 'message': None,\n 'metadata': {'_continue': None,\n              'resource_version': '4261845',\n              'self_link': '/apis/networking.k8s.io/v1/namespaces/xujietest/networkpolicies'},\n 'reason': None,\n 'status': None}"
      ]
     },
     "execution_count": 7,
     "metadata": {},
     "output_type": "execute_result"
    }
   ],
   "source": [
    "# examples for delete all network policies in given namespace\n",
    "\n",
    "r = delete_namespaced_network_policy_all(\"xujietest\")"
   ]
  },
  {
   "cell_type": "code",
   "execution_count": 2,
   "metadata": {},
   "outputs": [],
   "source": [
    "# examples for handle namespace\n",
    "\n",
    "ns_label = {\"ns1\":\"ns1\"}\n",
    "r = create_namespace(\"test1\", ns_label)\n",
    "#r = remove_namespace(\"test1\")"
   ]
  },
  {
   "cell_type": "code",
   "execution_count": 20,
   "metadata": {},
   "outputs": [],
   "source": [
    "# examples for handle pod and service\n",
    "namespace = \"test1\"\n",
    "pod_name = \"test-pod1\"\n",
    "client_port = ServicePort(\"clientport\", 8080, 8080)\n",
    "def create_pod_service():\n",
    "    inter_pod = PodBuilder(\n",
    "        pod_name,\n",
    "        namespace,\n",
    "    ).set_node(\n",
    "        \"ubuntu-client1\"\n",
    "    ).add_container(\n",
    "        pod_name,\n",
    "        image=\"xujieasd/alphine-restcheck:0.5\",\n",
    "        # args=args,\n",
    "        ports=[client_port],\n",
    "        requests={'cpu': '0', \"memory\": '0'},\n",
    "        limits = {'cpu': '1', \"memory\": '32Mi'}\n",
    "    )\n",
    "    inter_svc = ServiceBuilder(\"test-svc1\", namespace).add_port(client_port)\n",
    "    inter_svc.deploy(force=True)\n",
    "    inter_pod.attache_service(inter_svc)\n",
    "    inter_pod.deploy()\n",
    "\n",
    "def cleanup():\n",
    "    cleanup_pods(namespace=namespace)\n",
    "    cleanup_services(namespace)\n",
    "\n",
    "#create_pod_service()\n",
    "cleanup()"
   ]
  },
  {
   "cell_type": "code",
   "execution_count": 21,
   "metadata": {
    "collapsed": true
   },
   "outputs": [
    {
     "name": "stdout",
     "output_type": "stream",
     "text": [
      "------------------------------------------------------------\nClient connecting to 10.244.1.71, TCP port 5001\nTCP window size: 0.04 MByte (default)\n------------------------------------------------------------\n[  3] local 10.244.1.72 port 45888 connected with 10.244.1.71 port 5001\n[ ID] Interval       Transfer     Bandwidth\n[  3]  0.0- 1.0 sec  6347 MBytes  6347 MBytes/sec\n[  3]  1.0- 2.0 sec  6775 MBytes  6775 MBytes/sec\n[  3]  2.0- 3.0 sec  6940 MBytes  6940 MBytes/sec\n[  3]  3.0- 4.0 sec  6991 MBytes  6991 MBytes/sec\n[  3]  4.0- 5.0 sec  6895 MBytes  6895 MBytes/sec\n[  3]  5.0- 6.0 sec  6807 MBytes  6807 MBytes/sec\n[  3]  6.0- 7.0 sec  6677 MBytes  6677 MBytes/sec\n[  3]  7.0- 8.0 sec  7054 MBytes  7054 MBytes/sec\n[  3]  8.0- 9.0 sec  6755 MBytes  6755 MBytes/sec\n[  3]  9.0-10.0 sec  7001 MBytes  7001 MBytes/sec\n[  3]  0.0-10.0 sec  68258 MBytes  6824 MBytes/sec\nubuntu-client1 ubuntu-client1 10.244.1.71 6824\n"
     ]
    },
    {
     "name": "stdout",
     "output_type": "stream",
     "text": [
      "------------------------------------------------------------\nClient connecting to iperf-server, TCP port 5001\nTCP window size: 0.04 MByte (default)\n------------------------------------------------------------\n[  3] local 10.244.1.73 port 39662 connected with 10.98.76.119 port 5001\n[ ID] Interval       Transfer     Bandwidth\n[  3]  0.0- 1.0 sec  5520 MBytes  5520 MBytes/sec\n[  3]  1.0- 2.0 sec  5176 MBytes  5176 MBytes/sec\n[  3]  2.0- 3.0 sec  5206 MBytes  5206 MBytes/sec\n[  3]  3.0- 4.0 sec  5597 MBytes  5597 MBytes/sec\n[  3]  4.0- 5.0 sec  6017 MBytes  6017 MBytes/sec\n[  3]  5.0- 6.0 sec  6095 MBytes  6095 MBytes/sec\n[  3]  6.0- 7.0 sec  6523 MBytes  6523 MBytes/sec\n[  3]  7.0- 8.0 sec  6309 MBytes  6309 MBytes/sec\n[  3]  8.0- 9.0 sec  6467 MBytes  6467 MBytes/sec\n[  3]  9.0-10.0 sec  6563 MBytes  6563 MBytes/sec\n[  3]  0.0-10.0 sec  59479 MBytes  5947 MBytes/sec\nubuntu-client1 ubuntu-client1 iperf-server 5947\n"
     ]
    },
    {
     "name": "stdout",
     "output_type": "stream",
     "text": [
      "------------------------------------------------------------\nClient connecting to 10.244.1.71, TCP port 5001\nTCP window size: 0.04 MByte (default)\n------------------------------------------------------------\n[  3] local 10.244.2.67 port 34414 connected with 10.244.1.71 port 5001\n[ ID] Interval       Transfer     Bandwidth\n[  3]  0.0- 1.0 sec   236 MBytes   236 MBytes/sec\n[  3]  1.0- 2.0 sec   231 MBytes   231 MBytes/sec\n[  3]  2.0- 3.0 sec   229 MBytes   229 MBytes/sec\n[  3]  3.0- 4.0 sec   231 MBytes   231 MBytes/sec\n[  3]  4.0- 5.0 sec   225 MBytes   225 MBytes/sec\n[  3]  5.0- 6.0 sec   231 MBytes   231 MBytes/sec\n[  3]  6.0- 7.0 sec   234 MBytes   234 MBytes/sec\n[  3]  7.0- 8.0 sec   217 MBytes   217 MBytes/sec\n[  3]  8.0- 9.0 sec   232 MBytes   232 MBytes/sec\n[  3]  9.0-10.0 sec   225 MBytes   225 MBytes/sec\n[  3]  0.0-10.0 sec  2291 MBytes   229 MBytes/sec\nubuntu-client1 ubuntu-client2 10.244.1.71 229\n"
     ]
    },
    {
     "name": "stdout",
     "output_type": "stream",
     "text": [
      "------------------------------------------------------------\nClient connecting to iperf-server, TCP port 5001\nTCP window size: 0.04 MByte (default)\n------------------------------------------------------------\n[  3] local 10.244.2.68 port 52482 connected with 10.98.76.119 port 5001\n[ ID] Interval       Transfer     Bandwidth\n[  3]  0.0- 1.0 sec   229 MBytes   229 MBytes/sec\n[  3]  1.0- 2.0 sec   229 MBytes   229 MBytes/sec\n[  3]  2.0- 3.0 sec   233 MBytes   233 MBytes/sec\n[  3]  3.0- 4.0 sec   238 MBytes   238 MBytes/sec\n[  3]  4.0- 5.0 sec   228 MBytes   228 MBytes/sec\n[  3]  5.0- 6.0 sec   228 MBytes   228 MBytes/sec\n[  3]  6.0- 7.0 sec   227 MBytes   227 MBytes/sec\n[  3]  7.0- 8.0 sec   231 MBytes   231 MBytes/sec\n[  3]  8.0- 9.0 sec   233 MBytes   233 MBytes/sec\n[  3]  9.0-10.0 sec   232 MBytes   232 MBytes/sec\n[  3]  0.0-10.0 sec  2307 MBytes   231 MBytes/sec\nubuntu-client1 ubuntu-client2 iperf-server 231\n"
     ]
    },
    {
     "name": "stdout",
     "output_type": "stream",
     "text": [
      "------------------------------------------------------------\nClient connecting to 10.244.2.69, TCP port 5001\nTCP window size: 0.04 MByte (default)\n------------------------------------------------------------\n[  3] local 10.244.1.74 port 54004 connected with 10.244.2.69 port 5001\n[ ID] Interval       Transfer     Bandwidth\n[  3]  0.0- 1.0 sec   238 MBytes   238 MBytes/sec\n[  3]  1.0- 2.0 sec   233 MBytes   233 MBytes/sec\n[  3]  2.0- 3.0 sec   232 MBytes   232 MBytes/sec\n[  3]  3.0- 4.0 sec   227 MBytes   227 MBytes/sec\n[  3]  4.0- 5.0 sec   229 MBytes   229 MBytes/sec\n[  3]  5.0- 6.0 sec   227 MBytes   227 MBytes/sec\n[  3]  6.0- 7.0 sec   227 MBytes   227 MBytes/sec\n[  3]  7.0- 8.0 sec   222 MBytes   222 MBytes/sec\n[  3]  8.0- 9.0 sec   229 MBytes   229 MBytes/sec\n[  3]  9.0-10.0 sec   229 MBytes   229 MBytes/sec\n[  3]  0.0-10.0 sec  2293 MBytes   229 MBytes/sec\nubuntu-client2 ubuntu-client1 10.244.2.69 229\n"
     ]
    },
    {
     "name": "stdout",
     "output_type": "stream",
     "text": [
      "------------------------------------------------------------\nClient connecting to iperf-server, TCP port 5001\nTCP window size: 0.04 MByte (default)\n------------------------------------------------------------\n[  3] local 10.244.1.75 port 52960 connected with 10.98.76.119 port 5001\n[ ID] Interval       Transfer     Bandwidth\n[  3]  0.0- 1.0 sec   227 MBytes   227 MBytes/sec\n[  3]  1.0- 2.0 sec   227 MBytes   227 MBytes/sec\n[  3]  2.0- 3.0 sec   225 MBytes   225 MBytes/sec\n[  3]  3.0- 4.0 sec   222 MBytes   222 MBytes/sec\n[  3]  4.0- 5.0 sec   229 MBytes   229 MBytes/sec\n[  3]  5.0- 6.0 sec   232 MBytes   232 MBytes/sec\n[  3]  6.0- 7.0 sec   235 MBytes   235 MBytes/sec\n[  3]  7.0- 8.0 sec   221 MBytes   221 MBytes/sec\n[  3]  8.0- 9.0 sec   227 MBytes   227 MBytes/sec\n[  3]  9.0-10.0 sec   238 MBytes   238 MBytes/sec\n[  3]  0.0-10.0 sec  2283 MBytes   228 MBytes/sec\nubuntu-client2 ubuntu-client1 iperf-server 228\n"
     ]
    },
    {
     "name": "stdout",
     "output_type": "stream",
     "text": [
      "------------------------------------------------------------\nClient connecting to 10.244.2.69, TCP port 5001\nTCP window size: 0.04 MByte (default)\n------------------------------------------------------------\n[  3] local 10.244.2.70 port 38738 connected with 10.244.2.69 port 5001\n[ ID] Interval       Transfer     Bandwidth\n[  3]  0.0- 1.0 sec  6379 MBytes  6379 MBytes/sec\n[  3]  1.0- 2.0 sec  6907 MBytes  6907 MBytes/sec\n[  3]  2.0- 3.0 sec  6795 MBytes  6795 MBytes/sec\n[  3]  3.0- 4.0 sec  6809 MBytes  6809 MBytes/sec\n[  3]  4.0- 5.0 sec  6979 MBytes  6979 MBytes/sec\n[  3]  5.0- 6.0 sec  6647 MBytes  6647 MBytes/sec\n[  3]  6.0- 7.0 sec  6935 MBytes  6935 MBytes/sec\n[  3]  7.0- 8.0 sec  6670 MBytes  6670 MBytes/sec\n[  3]  8.0- 9.0 sec  6999 MBytes  6999 MBytes/sec\n[  3]  9.0-10.0 sec  6901 MBytes  6901 MBytes/sec\n[  3]  0.0-10.0 sec  68086 MBytes  6803 MBytes/sec\nubuntu-client2 ubuntu-client2 10.244.2.69 6803\n"
     ]
    },
    {
     "name": "stdout",
     "output_type": "stream",
     "text": [
      "------------------------------------------------------------\nClient connecting to iperf-server, TCP port 5001\nTCP window size: 0.04 MByte (default)\n------------------------------------------------------------\n[  3] local 10.244.2.71 port 51214 connected with 10.98.76.119 port 5001\n[ ID] Interval       Transfer     Bandwidth\n[  3]  0.0- 1.0 sec  6095 MBytes  6095 MBytes/sec\n[  3]  1.0- 2.0 sec  6560 MBytes  6560 MBytes/sec\n[  3]  2.0- 3.0 sec  6495 MBytes  6495 MBytes/sec\n[  3]  3.0- 4.0 sec  6628 MBytes  6628 MBytes/sec\n[  3]  4.0- 5.0 sec  6411 MBytes  6411 MBytes/sec\n[  3]  5.0- 6.0 sec  6576 MBytes  6576 MBytes/sec\n[  3]  6.0- 7.0 sec  6355 MBytes  6355 MBytes/sec\n[  3]  7.0- 8.0 sec  6441 MBytes  6441 MBytes/sec\n[  3]  8.0- 9.0 sec  6580 MBytes  6580 MBytes/sec\n[  3]  9.0-10.0 sec  6373 MBytes  6373 MBytes/sec\n[  3]  0.0-10.0 sec  64525 MBytes  6451 MBytes/sec\nubuntu-client2 ubuntu-client2 iperf-server 6451\n"
     ]
    }
   ],
   "source": [
    "# example to check bandwidth\n",
    "\n",
    "image = \"127.0.0.1:30100/library/alpine-iperf:0.1\"\n",
    "server_args = \"iperf -f M -i 1 -m -s\"\n",
    "client_args = r\"iperf -f M -t 10 -i 1 -c %s\"\n",
    "namespace = \"k8sft\"\n",
    "nodes = sorted(list_ready_nodes())\n",
    "nodes = [n for n in nodes if n.startswith(\"ubuntu-client\")]\n",
    "server_port = ServicePort(\"serverport\", 5001, 5001)\n",
    "global_server_name = \"iperf-server\"\n",
    "glimit = {'cpu': '0', 'memory': '8Gi'}\n",
    "grequest = {'cpu': '0', 'memory': '0'}\n",
    "server_service = ServiceBuilder(global_server_name, namespace).add_port(server_port)\n",
    "reports = {}\n",
    "report_css = \"\"\"<style>\n",
    "table, th, td {\n",
    "    border: 1px solid black;\n",
    "    border-collapse: collapse;\n",
    "}\n",
    "tr:nth-child(even) {background: #CCC}\n",
    "tr:nth-child(odd) {background: #FFF}\n",
    "</style>\n",
    "\"\"\"\n",
    "report_title = r\"\"\"<H1>Pod to Pod network throughput, single connection. (MBytes/sec)</H1>\n",
    "Cell format: <b><i>[bw via ip]|[bw via service]</i></b>\n",
    "<br>\n",
    "CPU limit: <b>no limit</b>\n",
    "<br>\n",
    "Memory Limit: <b>8Gi</b>\n",
    "<br>\n",
    "Server cmd: <b>%s</b>\n",
    "<br>\n",
    "Client cmd: <b>%s</b>\n",
    "<br>\n",
    "<br>\n",
    "\"\"\" % (server_args, client_args)\n",
    "\n",
    "def add_report(src, dest, result):\n",
    "    if src not in reports:\n",
    "        reports[src] = {}\n",
    "    if dest not in reports[src]:\n",
    "        reports[src][dest] = result\n",
    "    else:\n",
    "        reports[src][dest] = \"|\".join([reports[src][dest], result])\n",
    "\n",
    "\n",
    "def save_report():\n",
    "    shorts = {}\n",
    "    for n in nodes:\n",
    "        shorts[n] = n.split(\".\")[-1]\n",
    "    with open(\"report.html\", \"w\") as f:\n",
    "        f.write(report_css)\n",
    "        f.write(report_title)\n",
    "        f.write(\"<table><tr><th>From/To</th>\\n\")\n",
    "        for n in nodes:\n",
    "            f.write(\"<th>{}</th>\\n\".format(shorts[n]))\n",
    "        f.write(\"</tr>\\n\")\n",
    "        for n in nodes:\n",
    "            if n not in reports:\n",
    "                continue\n",
    "            f.write(\"<tr><td>{}</td>\\n\".format(shorts[n]))\n",
    "            for m in nodes:\n",
    "                if m not in reports[n]:\n",
    "                    f.write(\"<td>-</td>\\n\")\n",
    "                else:\n",
    "                    f.write(\"<td>{}</td>\\n\".format(reports[n][m]))\n",
    "            f.write(\"</tr>\\n\")\n",
    "        f.write(\"</table>\\n\")\n",
    "\n",
    "def test(server_node, client_node):\n",
    "    print client_node, \"->\", server_node\n",
    "    server_pod_name = \"server-\" + \"-\".join(server_node.split(\".\"))\n",
    "    PodBuilder(\n",
    "        server_pod_name, namespace\n",
    "    ).add_container(\n",
    "        name=server_pod_name + \"-container\",\n",
    "        image=image,\n",
    "        args=server_args,\n",
    "        limits=glimit,\n",
    "        requests=grequest,\n",
    "        ports=[server_port]\n",
    "    ).set_node(server_node).attache_service(server_service).deploy()\n",
    "    # wait for server pod running\n",
    "    wait_for_pod_state(namespace, server_pod_name, timeout=600, expect_status=RUNNING)\n",
    "    time.sleep(3)\n",
    "    # get server pod ip\n",
    "    server_pod_ip = get_pod_ip(namespace, server_pod_name)\n",
    "    run_client(client_node, server_node, server_pod_ip)\n",
    "    run_client(client_node, server_node, global_server_name)\n",
    "    delete_pod(namespace, server_pod_name)\n",
    "    wait_for_pod_state(namespace, server_pod_name, timeout=240, expect_status=NOT_FOUND)\n",
    "\n",
    "def run_server(server_node):\n",
    "    server_pod_name = \"server-\" + \"-\".join(server_node.split(\".\"))\n",
    "    PodBuilder(\n",
    "        server_pod_name, namespace\n",
    "    ).add_container(\n",
    "        name=server_pod_name + \"-container\",\n",
    "        image=image,\n",
    "        args=server_args,\n",
    "        limits=glimit,\n",
    "        requests=grequest,\n",
    "        ports=[server_port]\n",
    "    ).set_node(server_node).attache_service(server_service).deploy()\n",
    "    try:\n",
    "        # wait for server pod running\n",
    "        wait_for_pod_state(namespace, server_pod_name, timeout=600, expect_status=RUNNING)\n",
    "        time.sleep(5)\n",
    "        # get server pod ip\n",
    "        server_pod_ip = get_pod_ip(namespace, server_pod_name)\n",
    "        for node in nodes:\n",
    "            run_client(node, server_node, server_pod_ip)\n",
    "            run_client(node, server_node, global_server_name)\n",
    "    except:\n",
    "        pass\n",
    "    finally:\n",
    "        remove_pod(namespace, server_pod_name)\n",
    "\n",
    "\n",
    "def run_client(client_node, server_node, server_pod_ip):\n",
    "    client_pod_name = \"client-\" + \"-\".join(client_node.split(\".\"))\n",
    "    pod = PodBuilder(\n",
    "        client_pod_name, namespace\n",
    "    ).add_container(\n",
    "        name=client_pod_name + \"-container\",\n",
    "        image=image,\n",
    "        args=client_args % server_pod_ip,\n",
    "        limits=glimit,\n",
    "        requests=grequest,\n",
    "    ).set_node(client_node)\n",
    "    try:\n",
    "        for i in range(2):\n",
    "            pod.deploy()\n",
    "            # wait for client complete\n",
    "            wait_for_pod_state(namespace, client_pod_name, timeout=600, expect_status=SUCCEEDED)\n",
    "            # parse client log to get tx speed.\n",
    "            logs = tail_pod_logs(namespace, client_pod_name, lines=20).strip()\n",
    "            print logs\n",
    "            summary = logs.split(\"\\n\")[-1]\n",
    "            m = re.match(r\".*[^.\\d]+([.\\d]+) MBytes/sec\", summary)\n",
    "            if m:\n",
    "                break\n",
    "            remove_pod(namespace, client_pod_name)\n",
    "        if m:\n",
    "            print server_node, client_node, server_pod_ip, m.group(1)\n",
    "            add_report(client_node, server_node, m.group(1))\n",
    "        else:\n",
    "            add_report(client_node, server_node, summary)\n",
    "    except:\n",
    "        pass\n",
    "    finally:\n",
    "        remove_pod(namespace, client_pod_name)\n",
    "\n",
    "def cleanup():\n",
    "    cleanup_pods(namespace=namespace)\n",
    "    cleanup_services(namespace)\n",
    "\n",
    "\n",
    "cleanup()\n",
    "server_service.deploy(force=True)\n",
    "# test all node pair\n",
    "for node in nodes:\n",
    "    run_server(node)"
   ]
  },
  {
   "cell_type": "markdown",
   "metadata": {},
   "source": [
    "### below is examples for create network policy stress test environment\n",
    "* will create N namespaces with labels\n",
    "* for every nodes, create pods with labels for every namespace\n",
    "* create svc for every pods\n",
    "* for every namespaces, create 2 ingress networkpolicies\n",
    "* one networkpolicy will create ingress rule which accept traffic from it's own namespace\n",
    "* anther networkpolicy will create ingress rule which accept traffic from namespace[0] to namespace[N/2]"
   ]
  },
  {
   "cell_type": "code",
   "execution_count": 45,
   "metadata": {},
   "outputs": [],
   "source": [
    "nodes = list_ready_nodes()\n",
    "nodes = [n for n in nodes if n.startswith(\"ubuntu-client\")]\n",
    "image = \"xujieasd/alphine-restcheck:0.5\"\n",
    "client_port = ServicePort(\"clientport\", 8080, 8080)\n",
    "counts = [0] * len(nodes)\n",
    "readys = [True] * len(nodes)\n",
    "dones = [False] * len(nodes)\n",
    "node_marks = [\"-\".join(n.split(\".\")) for n in nodes]\n",
    "\n",
    "NS_NUMBER = 4"
   ]
  },
  {
   "cell_type": "code",
   "execution_count": 46,
   "metadata": {
    "collapsed": true
   },
   "outputs": [
    {
     "name": "stdout",
     "output_type": "stream",
     "text": [
      "It took 21s to deploy 4 pod on ubuntu-client1\nIt took 21s to deploy 4 pod on ubuntu-client2\n"
     ]
    },
    {
     "name": "stdout",
     "output_type": "stream",
     "text": [
      "it took 24.4726910591 s\n"
     ]
    }
   ],
   "source": [
    "def create_numbered_namespace():\n",
    "    for i in range (0, NS_NUMBER):\n",
    "        namespace_name = (\"namespace-%d\" % i)\n",
    "        label = (\"ns-%d\" % i)\n",
    "        namespace_label = {label:label}\n",
    "        create_namespace(namespace_name, namespace_label)\n",
    "  \n",
    "def delete_numbered_namespace():\n",
    "    for i in range (0, NS_NUMBER):\n",
    "        namespace_name = (\"namespace-%d\" % i)\n",
    "        remove_namespace(namespace_name)\n",
    "\n",
    "def cleanup_all_pods():\n",
    "    for i in range (0, NS_NUMBER):\n",
    "        namespace_name = (\"namespace-%d\" % i)\n",
    "        cleanup_pods(namespace_name)\n",
    "        \n",
    "def cleanup_all_services():\n",
    "    for i in range (0, NS_NUMBER):\n",
    "        namespace_name = (\"namespace-%d\" % i)\n",
    "        cleanup_services(namespace_name)\n",
    "\n",
    "def cleanup_all_network_policy():\n",
    "    for i in range (0, NS_NUMBER):\n",
    "        namespace_name = (\"namespace-%d\" % i)\n",
    "        delete_namespaced_network_policy_all(namespace_name)\n",
    "\n",
    "def cleanup():\n",
    "    cleanup_all_network_policy()\n",
    "    cleanup_all_services()\n",
    "    cleanup_all_pods()\n",
    "    delete_numbered_namespace()\n",
    " \n",
    "def create_pods_services_peer_node():\n",
    "    total = 0\n",
    "    start = time.time()\n",
    "    while not all(dones):\n",
    "        # deploy ready nodes\n",
    "        for i, n in enumerate(nodes):\n",
    "            namespace_id = counts[i]\n",
    "            namespace_name = (\"namespace-%d\" % namespace_id)\n",
    "            if dones[i]:\n",
    "                continue  \n",
    "            pod_name = (\"pod-%s-%d\" % (node_marks[i], namespace_id))\n",
    "            if readys[i]:\n",
    "                # create a new pod\n",
    "                inter_pod = PodBuilder(\n",
    "                    pod_name,\n",
    "                    namespace_name,\n",
    "                ).set_node(\n",
    "                    n\n",
    "                ).add_container(\n",
    "                    pod_name,\n",
    "                    image=image,\n",
    "                    # args=args,\n",
    "                    ports=[client_port],\n",
    "                    requests={'cpu': '0', \"memory\": '0'},\n",
    "                    limits = {'cpu': '1', \"memory\": '32Mi'}\n",
    "                )\n",
    "                svc_name = (\"svc-%s-%d\" % (node_marks[i], namespace_id))\n",
    "                inter_svc = ServiceBuilder(svc_name, namespace_name).add_port(client_port)\n",
    "                inter_svc.deploy(force=True)\n",
    "                inter_pod.attache_service(inter_svc)\n",
    "                inter_pod.deploy()\n",
    "                readys[i] = False\n",
    "                # print \"creating\", pod_name\n",
    "            else:\n",
    "                # check for current pod running\n",
    "                readys[i] = is_pod_running(namespace_name, pod_name)\n",
    "                if readys[i]:\n",
    "                    total += 1\n",
    "                    counts[i] += 1\n",
    "                if counts[i] >= NS_NUMBER:\n",
    "                    print \"It took %ds to deploy %d pod on %s\" % (int(time.time()-start), NS_NUMBER, n)\n",
    "                    # print n, \"is done~!\", \"total\", total\n",
    "                    dones[i] = True\n",
    "        time.sleep(3)\n",
    "    print \"it took\", time.time() - start, \"s\"\n",
    "\n",
    "def create_numbered_network_policy():\n",
    "    for i in range (0, NS_NUMBER):\n",
    "        namespace_name = (\"namespace-%d\" % i)\n",
    "        policy_name = (\"ingress-policy-l%d\" % i)\n",
    "        label = (\"ns-%d\" % i)\n",
    "        namespace_label_local = {label:label}\n",
    "        ingress_rule_l = NetworkPolicyIngressRule()\n",
    "        ingress_rule_l.add_policy_namespace_selector(namespace_label=namespace_label_local)\n",
    "\n",
    "        ingress_policy_l = NetworkPolicyBuilder(\n",
    "            policy_name,\n",
    "            namespace_name,\n",
    "        ).add_ingress_rule(\n",
    "            ingress_rule_l,\n",
    "        ).add_policy_type(\n",
    "            \"Ingress\",\n",
    "        )\n",
    "        ingress_policy_l.deploy()\n",
    "\n",
    "        policy_name = (\"ingress-policy-%d\" % i)\n",
    "        ingress_rule = NetworkPolicyIngressRule()\n",
    "        half_num = NS_NUMBER/2\n",
    "        for j in range (0, half_num):\n",
    "            label = (\"ns-%d\" % j)\n",
    "            namespace_label_local = {label:label}\n",
    "            ingress_rule.add_policy_namespace_selector(namespace_label=namespace_label_local)\n",
    "\n",
    "        ingress_policy = NetworkPolicyBuilder(\n",
    "            policy_name,\n",
    "            namespace_name,\n",
    "        ).add_ingress_rule(\n",
    "            ingress_rule,\n",
    "        ).add_policy_type(\n",
    "            \"Ingress\",\n",
    "        )\n",
    "        ingress_policy.deploy()\n",
    "    \n",
    "def policy_stress():\n",
    "    create_numbered_namespace()\n",
    "    create_pods_services_peer_node()\n",
    "    create_numbered_network_policy()\n",
    "\n",
    "policy_stress()\n",
    "#cleanup()"
   ]
  },
  {
   "cell_type": "markdown",
   "metadata": {},
   "source": [
    "### below will check if policy is correct, will check\n",
    "* for all namespaces, check network traffic which are allowed to access all the pods in the given namespace\n",
    "* for all namespaces. check network traffic which are not allowed to access all the pods in the given namespace "
   ]
  },
  {
   "cell_type": "code",
   "execution_count": 57,
   "metadata": {
    "collapsed": true
   },
   "outputs": [
    {
     "name": "stdout",
     "output_type": "stream",
     "text": [
      "check unconnection\nnamespace:namespace-2 pod_name: pod-ubuntu-client1-2\nsvc_name: svc-ubuntu-client1-0, ip: 10.110.241.125, namespace: 0\n"
     ]
    },
    {
     "name": "stdout",
     "output_type": "stream",
     "text": [
      "svc_name: svc-ubuntu-client2-0, ip: 10.107.67.84, namespace: 0\n"
     ]
    },
    {
     "name": "stdout",
     "output_type": "stream",
     "text": [
      "namespace:namespace-2 pod_name: pod-ubuntu-client2-2\nsvc_name: svc-ubuntu-client1-0, ip: 10.110.241.125, namespace: 0\n"
     ]
    },
    {
     "name": "stdout",
     "output_type": "stream",
     "text": [
      "svc_name: svc-ubuntu-client2-0, ip: 10.107.67.84, namespace: 0\n"
     ]
    },
    {
     "name": "stdout",
     "output_type": "stream",
     "text": [
      "namespace:namespace-3 pod_name: pod-ubuntu-client1-3\nsvc_name: svc-ubuntu-client1-0, ip: 10.110.241.125, namespace: 0\n"
     ]
    },
    {
     "name": "stdout",
     "output_type": "stream",
     "text": [
      "svc_name: svc-ubuntu-client2-0, ip: 10.107.67.84, namespace: 0\n"
     ]
    },
    {
     "name": "stdout",
     "output_type": "stream",
     "text": [
      "namespace:namespace-3 pod_name: pod-ubuntu-client2-3\nsvc_name: svc-ubuntu-client1-0, ip: 10.110.241.125, namespace: 0\n"
     ]
    },
    {
     "name": "stdout",
     "output_type": "stream",
     "text": [
      "svc_name: svc-ubuntu-client2-0, ip: 10.107.67.84, namespace: 0\n"
     ]
    },
    {
     "name": "stdout",
     "output_type": "stream",
     "text": [
      "namespace:namespace-2 pod_name: pod-ubuntu-client1-2\nsvc_name: svc-ubuntu-client1-1, ip: 10.104.205.90, namespace: 1\n"
     ]
    },
    {
     "name": "stdout",
     "output_type": "stream",
     "text": [
      "svc_name: svc-ubuntu-client2-1, ip: 10.111.250.223, namespace: 1\n"
     ]
    },
    {
     "name": "stdout",
     "output_type": "stream",
     "text": [
      "namespace:namespace-2 pod_name: pod-ubuntu-client2-2\nsvc_name: svc-ubuntu-client1-1, ip: 10.104.205.90, namespace: 1\n"
     ]
    },
    {
     "name": "stdout",
     "output_type": "stream",
     "text": [
      "svc_name: svc-ubuntu-client2-1, ip: 10.111.250.223, namespace: 1\n"
     ]
    },
    {
     "name": "stdout",
     "output_type": "stream",
     "text": [
      "namespace:namespace-3 pod_name: pod-ubuntu-client1-3\nsvc_name: svc-ubuntu-client1-1, ip: 10.104.205.90, namespace: 1\n"
     ]
    },
    {
     "name": "stdout",
     "output_type": "stream",
     "text": [
      "svc_name: svc-ubuntu-client2-1, ip: 10.111.250.223, namespace: 1\n"
     ]
    },
    {
     "name": "stdout",
     "output_type": "stream",
     "text": [
      "namespace:namespace-3 pod_name: pod-ubuntu-client2-3\nsvc_name: svc-ubuntu-client1-1, ip: 10.104.205.90, namespace: 1\n"
     ]
    },
    {
     "name": "stdout",
     "output_type": "stream",
     "text": [
      "svc_name: svc-ubuntu-client2-1, ip: 10.111.250.223, namespace: 1\n"
     ]
    },
    {
     "name": "stdout",
     "output_type": "stream",
     "text": [
      "namespace:namespace-2 pod_name: pod-ubuntu-client1-2\nnamespace:namespace-2 pod_name: pod-ubuntu-client2-2\nnamespace:namespace-3 pod_name: pod-ubuntu-client1-3\nsvc_name: svc-ubuntu-client1-2, ip: 10.99.47.120, namespace: 2\n"
     ]
    },
    {
     "name": "stdout",
     "output_type": "stream",
     "text": [
      "svc_name: svc-ubuntu-client2-2, ip: 10.109.212.69, namespace: 2\n"
     ]
    },
    {
     "name": "stdout",
     "output_type": "stream",
     "text": [
      "namespace:namespace-3 pod_name: pod-ubuntu-client2-3\nsvc_name: svc-ubuntu-client1-2, ip: 10.99.47.120, namespace: 2\n"
     ]
    },
    {
     "name": "stdout",
     "output_type": "stream",
     "text": [
      "svc_name: svc-ubuntu-client2-2, ip: 10.109.212.69, namespace: 2\n"
     ]
    },
    {
     "name": "stdout",
     "output_type": "stream",
     "text": [
      "namespace:namespace-2 pod_name: pod-ubuntu-client1-2\nsvc_name: svc-ubuntu-client1-3, ip: 10.98.214.117, namespace: 3\n"
     ]
    },
    {
     "name": "stdout",
     "output_type": "stream",
     "text": [
      "svc_name: svc-ubuntu-client2-3, ip: 10.109.208.189, namespace: 3\n"
     ]
    },
    {
     "name": "stdout",
     "output_type": "stream",
     "text": [
      "namespace:namespace-2 pod_name: pod-ubuntu-client2-2\nsvc_name: svc-ubuntu-client1-3, ip: 10.98.214.117, namespace: 3\n"
     ]
    },
    {
     "name": "stdout",
     "output_type": "stream",
     "text": [
      "svc_name: svc-ubuntu-client2-3, ip: 10.109.208.189, namespace: 3\n"
     ]
    },
    {
     "name": "stdout",
     "output_type": "stream",
     "text": [
      "namespace:namespace-3 pod_name: pod-ubuntu-client1-3\nnamespace:namespace-3 pod_name: pod-ubuntu-client2-3\nno issue found\n"
     ]
    }
   ],
   "source": [
    "SUCCESS_MARK = \"CHECK_PASS\"\n",
    "\n",
    "def _get_pod_ip(namespace, pod):\n",
    "    return get_pod_ip(namespace, pod)\n",
    "\n",
    "def _check_service_connected(namespace, pod, service, port):\n",
    "    s = time.time()\n",
    "    o = pod_exec_new(namespace, pod, [\"/opt/check2.sh\", service, port])\n",
    "    if o.find(SUCCESS_MARK) == -1:\n",
    "        print \"Fail to check %s:%s on %s, error message: [%s]. it took %s\" % (service, port, pod, o, str(time.time() - s))\n",
    "        return False\n",
    "    return True\n",
    "\n",
    "def _check_service_unconnected(namespace, pod, service, port):\n",
    "    o = pod_exec_new(namespace, pod, [\"/opt/check2.sh\", service, port])\n",
    "    if o.find(SUCCESS_MARK) != -1:\n",
    "        print \"Fail to check %s:%s on %s, error message: [%s]. expected unconnected \" % (service, port, pod, o)\n",
    "        return False\n",
    "    return True\n",
    "\n",
    "def check_service_connected(namespace, pod, service, port):\n",
    "    # give it a retry\n",
    "    return _check_service_connected(namespace, pod, service, port) or \\\n",
    "           _check_service_connected(namespace, pod, service, port)\n",
    "\n",
    "def check_service_unconnected(namespace, pod, service, port):\n",
    "    return _check_service_unconnected(namespace, pod, service, port)\n",
    "\n",
    "def check_namespaced_pod_connection(namespace_id, namespace_set):\n",
    "    \n",
    "    err = []\n",
    "\n",
    "    for nj, namespace_j in enumerate(namespace_set):\n",
    "        namespace_name = (\"namespace-%d\" % namespace_j)\n",
    "        for i, ni in enumerate(nodes):\n",
    "\n",
    "            pod_name = (\"pod-%s-%d\" % (node_marks[i], namespace_j))\n",
    "            print \"namespace:%s pod_name: %s\" % (namespace_name,pod_name)\n",
    "            \n",
    "            for k, nk in enumerate(nodes):\n",
    "                if nk == ni and namespace_id == namespace_j:\n",
    "                    continue\n",
    "                svc_name = (\"svc-%s-%d\" % (node_marks[k], namespace_id))\n",
    "                svc_namespace = (\"namespace-%d\" % namespace_id)\n",
    "                svc = get_service(svc_namespace,svc_name)\n",
    "                svc_ip = svc.spec.cluster_ip\n",
    "                print \"svc_name: %s, ip: %s, namespace: %s\" % (svc_name, svc_ip, namespace_id)\n",
    "\n",
    "                if not check_service_connected(namespace_name, pod_name, svc_ip, \"8080\"):\n",
    "                    err_log = \"Fail to connect %s:%s on %s.\" % (svc_name,\"8080\",pod_name)\n",
    "                    err.append(err_log)\n",
    "        \n",
    "    return err\n",
    "\n",
    "def check_namespace_pod_unconnection(namespace_id, namespace_set):\n",
    " \n",
    "    err = []\n",
    "\n",
    "    for nj, namespace_j in enumerate(namespace_set):\n",
    "        namespace_name = (\"namespace-%d\" % namespace_j)\n",
    "        for i, ni in enumerate(nodes):\n",
    "\n",
    "            pod_name = (\"pod-%s-%d\" % (node_marks[i], namespace_j))\n",
    "            print \"namespace:%s pod_name: %s\" % (namespace_name,pod_name)\n",
    "\n",
    "            for k, nk in enumerate(nodes):\n",
    "                if namespace_id == namespace_j:\n",
    "                    continue\n",
    "                svc_name = (\"svc-%s-%d\" % (node_marks[k], namespace_id))\n",
    "                svc_namespace = (\"namespace-%d\" % namespace_id)\n",
    "                svc = get_service(svc_namespace,svc_name)\n",
    "                svc_ip = svc.spec.cluster_ip\n",
    "                print \"svc_name: %s, ip: %s, namespace: %s\" % (svc_name, svc_ip, namespace_id)\n",
    "    \n",
    "                if not check_service_unconnected(namespace_name, pod_name, svc_ip, \"8080\"):\n",
    "                    err_log = \"unexpected connection %s:%s on %s.\" % (svc_name,\"8080\",pod_name)\n",
    "                    err.append(err_log)\n",
    "    return err\n",
    "\n",
    "def check_all_pod_connection():\n",
    "    err = []\n",
    "    print \"check connection\"\n",
    "    for i in range (0, NS_NUMBER):\n",
    "        print \"check namespace %d\" % i\n",
    "        namespace_set = []\n",
    "        for j in range (0, NS_NUMBER/2):\n",
    "            namespace_set.append(j)\n",
    "        r = check_namespaced_pod_connection(i, namespace_set)\n",
    "        if r:\n",
    "            for i, rr in enumerate(r):\n",
    "                err.append(rr)\n",
    "    if err:\n",
    "        print \"connection issue found.\"\n",
    "        for i, r in enumerate(err):\n",
    "            print r\n",
    "    else:\n",
    "        print \"no issue found\"\n",
    "\n",
    "def check_all_pod_unconnection():\n",
    "    err = []\n",
    "    print \"check unconnection\"\n",
    "    for i in range (0, NS_NUMBER):\n",
    "        namespace_set = []\n",
    "        for j in range (NS_NUMBER/2, NS_NUMBER):\n",
    "            namespace_set.append(j)\n",
    "        r = check_namespace_pod_unconnection(i, namespace_set)\n",
    "        if r:\n",
    "            for i, rr in enumerate(r):\n",
    "                err.append(rr)\n",
    "    if err:\n",
    "        print \"connection issue found.\"\n",
    "        for i, r in enumerate(err):\n",
    "            print r\n",
    "    else:\n",
    "        print \"no issue found\"\n",
    "#check_all_pod_connection()\n",
    "check_all_pod_unconnection()"
   ]
  },
  {
   "cell_type": "code",
   "execution_count": 3,
   "metadata": {},
   "outputs": [],
   "source": [
    ""
   ]
  },
  {
   "cell_type": "code",
   "execution_count": null,
   "metadata": {},
   "outputs": [],
   "source": [
    ""
   ]
  }
 ],
 "metadata": {},
 "nbformat": 4,
 "nbformat_minor": 0
}